{
 "cells": [
  {
   "cell_type": "code",
   "execution_count": 1,
   "id": "e0230f42-a50a-481f-85e2-b4d3ed39f48a",
   "metadata": {},
   "outputs": [
    {
     "name": "stdout",
     "output_type": "stream",
     "text": [
      "NVIDIA A100-PCIE-40GB, 40960 MiB, 32531 MiB\n",
      "NVIDIA A100-PCIE-40GB, 40960 MiB, 38895 MiB\n",
      "NVIDIA A100-PCIE-40GB, 40960 MiB, 40355 MiB\n"
     ]
    }
   ],
   "source": [
    "!nvidia-smi --query-gpu=name,memory.total,memory.free --format=csv,noheader"
   ]
  },
  {
   "cell_type": "code",
   "execution_count": 1,
   "id": "6ee3cca5-c9f6-4ee3-a955-2f78c377e8fe",
   "metadata": {},
   "outputs": [
    {
     "name": "stderr",
     "output_type": "stream",
     "text": [
      "/root/miniconda3/envs/dushian/lib/python3.8/site-packages/tqdm/auto.py:22: TqdmWarning: IProgress not found. Please update jupyter and ipywidgets. See https://ipywidgets.readthedocs.io/en/stable/user_install.html\n",
      "  from .autonotebook import tqdm as notebook_tqdm\n"
     ]
    }
   ],
   "source": [
    "import torch\n",
    "import os\n",
    "from diffusers import StableDiffusionPipeline\n",
    "from transformers import CLIPFeatureExtractor, CLIPTextModel, CLIPTokenizer\n",
    "\n",
    "SEED = None\n",
    "DEVICE = torch.device(\"cuda:0\") if torch.cuda.is_available() else torch.device(\"cpu\")\n",
    "\n",
    "pretrained_model_name_or_path = \"/root/autodl-tmp/stable_diffusion/stable-diffusion-v1-5\"\n",
    "learned_embeds_path = \"/root/autodl-tmp/textual_inversion/trained_embeddings/custom_chair/original/learned_embeds.bin\"\n",
    "all_embedding_path = os.path.dirname(learned_embeds_path)\n",
    "dataset_path, _ = os.path.split(all_embedding_path)\n",
    "_, dataset_name = os.path.split(dataset_path)\n",
    "initialization_word_path = f\"{all_embedding_path}/initialization_word.txt\"\n",
    "interpolation_factor = 0.0 # modify it to control the strength\n",
    "\n",
    "tokenizer = CLIPTokenizer.from_pretrained(\n",
    "    pretrained_model_name_or_path,\n",
    "    subfolder=\"tokenizer\",\n",
    ")\n",
    "text_encoder = CLIPTextModel.from_pretrained(\n",
    "    pretrained_model_name_or_path, subfolder=\"text_encoder\", torch_dtype=torch.float16\n",
    ")"
   ]
  },
  {
   "cell_type": "code",
   "execution_count": 2,
   "id": "c36bdf29-5a63-405b-921f-a5ef291949b9",
   "metadata": {},
   "outputs": [
    {
     "name": "stdout",
     "output_type": "stream",
     "text": [
      "placeholder token for dataset custom_chair: <custom_chair>\n",
      "Initialization token for dataset custom_chair: chair\n"
     ]
    }
   ],
   "source": [
    "loaded_learned_embeds = torch.load(learned_embeds_path, map_location=\"cpu\")\n",
    "  \n",
    "# separate token and the embeds\n",
    "trained_token = list(loaded_learned_embeds.keys())[0]\n",
    "embeds = loaded_learned_embeds[trained_token]\n",
    "print(\"placeholder token for dataset {}:\".format(dataset_name), trained_token)\n",
    "\n",
    "# cast to dtype of text_encoder\n",
    "dtype = text_encoder.get_input_embeddings().weight.dtype\n",
    "embeds.to(dtype)\n",
    "\n",
    "# get the initial embedding\n",
    "with open(initialization_word_path, \"r\") as f:\n",
    "    initialization_word  = f.read()\n",
    "print(\"Initialization token for dataset {}:\".format(dataset_name), initialization_word)\n",
    "initialization_word_ids = tokenizer.convert_tokens_to_ids(initialization_word)\n",
    "initialization_embedding = text_encoder.get_input_embeddings().weight.data[initialization_word_ids]"
   ]
  },
  {
   "cell_type": "code",
   "execution_count": 3,
   "id": "cd321348-b3a6-4daa-9f49-79c9c1d48ab6",
   "metadata": {},
   "outputs": [],
   "source": [
    "# perform linear interpolation\n",
    "interpolation_embedding = interpolation_factor * embeds + (1 - interpolation_factor) * initialization_embedding"
   ]
  },
  {
   "cell_type": "code",
   "execution_count": 4,
   "id": "6bbfb020-6989-47e1-9bf8-23e8c8dda500",
   "metadata": {},
   "outputs": [
    {
     "name": "stderr",
     "output_type": "stream",
     "text": [
      "/root/miniconda3/envs/dushian/lib/python3.8/site-packages/transformers/models/clip/feature_extraction_clip.py:28: FutureWarning: The class CLIPFeatureExtractor is deprecated and will be removed in version 5 of Transformers. Please use CLIPImageProcessor instead.\n",
      "  warnings.warn(\n"
     ]
    }
   ],
   "source": [
    "# add the token in tokenizer\n",
    "num_added_tokens = tokenizer.add_tokens(trained_token)\n",
    "if num_added_tokens == 0:\n",
    "    raise ValueError(f\"The tokenizer already contains the token {trained_token}. \"\n",
    "                     \"Please pass a different `token` that is not already in the tokenizer.\")\n",
    "\n",
    "# resize the token embeddings\n",
    "text_encoder.resize_token_embeddings(len(tokenizer))\n",
    "\n",
    "# get the id for the token and assign the embeds\n",
    "token_id = tokenizer.convert_tokens_to_ids(trained_token)\n",
    "text_encoder.get_input_embeddings().weight.data[token_id] = interpolation_embedding\n",
    "\n",
    "pipe = StableDiffusionPipeline.from_pretrained(pretrained_model_name_or_path,\n",
    "                                               torch_dtype=torch.float16, \n",
    "                                               text_encoder=text_encoder, \n",
    "                                               tokenizer=tokenizer).to(DEVICE)"
   ]
  },
  {
   "cell_type": "code",
   "execution_count": 12,
   "id": "ddbfb6e2-c008-4ac8-8736-abdfb16c96d6",
   "metadata": {},
   "outputs": [
    {
     "name": "stderr",
     "output_type": "stream",
     "text": [
      "100%|██████████| 50/50 [00:02<00:00, 18.15it/s]\n"
     ]
    }
   ],
   "source": [
    "prompt = \"{} with a cat sitting on it and looking up\".format(trained_token)\n",
    "generator = None if SEED is None else torch.Generator(\n",
    "            device=DEVICE).manual_seed(SEED)\n",
    "\n",
    "image = pipe(prompt, num_inference_steps=50, guidance_scale=7.5, generator=generator).images[0]\n",
    "\n",
    "image_dir = os.path.join(all_embedding_path, \"images\")\n",
    "os.makedirs(image_dir, exist_ok=True)\n",
    "image_path = os.path.join(image_dir, \"{}_factor={}.png\".format(prompt, interpolation_factor))\n",
    "image.save(image_path)"
   ]
  },
  {
   "cell_type": "code",
   "execution_count": null,
   "id": "2945a0c1-6562-4e0e-b6bc-01a80c2db6af",
   "metadata": {},
   "outputs": [],
   "source": []
  }
 ],
 "metadata": {
  "kernelspec": {
   "display_name": "dushian",
   "language": "python",
   "name": "dushian"
  },
  "language_info": {
   "codemirror_mode": {
    "name": "ipython",
    "version": 3
   },
   "file_extension": ".py",
   "mimetype": "text/x-python",
   "name": "python",
   "nbconvert_exporter": "python",
   "pygments_lexer": "ipython3",
   "version": "3.8.16"
  }
 },
 "nbformat": 4,
 "nbformat_minor": 5
}
