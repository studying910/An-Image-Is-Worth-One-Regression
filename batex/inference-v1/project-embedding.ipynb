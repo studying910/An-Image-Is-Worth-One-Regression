{
 "cells": [
  {
   "cell_type": "code",
   "execution_count": 1,
   "id": "0e0e40bf-dc66-4e51-9c75-6769a3ac0170",
   "metadata": {},
   "outputs": [
    {
     "name": "stdout",
     "output_type": "stream",
     "text": [
      "NVIDIA A100-PCIE-40GB, 40960 MiB, 40513 MiB\n",
      "NVIDIA A100-PCIE-40GB, 40960 MiB, 40513 MiB\n",
      "NVIDIA A100-PCIE-40GB, 40960 MiB, 40513 MiB\n"
     ]
    }
   ],
   "source": [
    "!nvidia-smi --query-gpu=name,memory.total,memory.free --format=csv,noheader"
   ]
  },
  {
   "cell_type": "code",
   "execution_count": 1,
   "id": "93c2741a-8d00-41ae-9253-da373f7bf0ae",
   "metadata": {},
   "outputs": [
    {
     "name": "stderr",
     "output_type": "stream",
     "text": [
      "/root/miniconda3/envs/dushian/lib/python3.8/site-packages/tqdm/auto.py:22: TqdmWarning: IProgress not found. Please update jupyter and ipywidgets. See https://ipywidgets.readthedocs.io/en/stable/user_install.html\n",
      "  from .autonotebook import tqdm as notebook_tqdm\n"
     ]
    }
   ],
   "source": [
    "import torch\n",
    "import os\n",
    "import random\n",
    "from diffusers import StableDiffusionPipeline\n",
    "from transformers import CLIPFeatureExtractor, CLIPTextModel, CLIPTokenizer\n",
    "\n",
    "SEED = None\n",
    "DEVICE = torch.device(\"cuda:0\") if torch.cuda.is_available() else torch.device(\"cpu\")\n",
    "\n",
    "pretrained_model_name_or_path = \"/root/autodl-tmp/stable_diffusion/stable-diffusion-2\"\n",
    "learned_embeds_path = \"/root/autodl-tmp/textual_inversion/trained_embeddings/custom_cat_v2/original/learned_embeds.bin\"\n",
    "all_embedding_path = os.path.dirname(learned_embeds_path)\n",
    "dataset_path, _ = os.path.split(all_embedding_path)\n",
    "_, dataset_name = os.path.split(dataset_path)\n",
    "initialization_word_path = f\"{all_embedding_path}/initialization_word.txt\"\n",
    "interpolation_factor = 0.8 # modify it to control the strength\n",
    "\n",
    "tokenizer = CLIPTokenizer.from_pretrained(\n",
    "    pretrained_model_name_or_path,\n",
    "    subfolder=\"tokenizer\",\n",
    ")\n",
    "text_encoder = CLIPTextModel.from_pretrained(\n",
    "    pretrained_model_name_or_path, \n",
    "    subfolder=\"text_encoder\",\n",
    ")"
   ]
  },
  {
   "cell_type": "code",
   "execution_count": 2,
   "id": "c3aa18d8-ab5c-4b86-92b3-1703a0b91d3c",
   "metadata": {},
   "outputs": [
    {
     "name": "stdout",
     "output_type": "stream",
     "text": [
      "placeholder token for dataset custom_cat_v2: <custom_cat>\n",
      "Initialization token for dataset custom_cat_v2: cat\n"
     ]
    }
   ],
   "source": [
    "loaded_learned_embeds = torch.load(learned_embeds_path, map_location=\"cpu\")\n",
    "  \n",
    "# separate token and the embeds\n",
    "trained_token = list(loaded_learned_embeds.keys())[0]\n",
    "embeds = loaded_learned_embeds[trained_token]\n",
    "print(\"placeholder token for dataset {}:\".format(dataset_name), trained_token)\n",
    "\n",
    "# cast to dtype of text_encoder\n",
    "dtype = text_encoder.get_input_embeddings().weight.dtype\n",
    "embeds.to(dtype)\n",
    "\n",
    "# get the initial embedding\n",
    "with open(initialization_word_path, \"r\") as f:\n",
    "    initialization_word  = f.read()\n",
    "print(\"Initialization token for dataset {}:\".format(dataset_name), initialization_word)\n",
    "initialization_word_ids = tokenizer.convert_tokens_to_ids(initialization_word)\n",
    "initialization_embedding = text_encoder.get_input_embeddings().weight.data[initialization_word_ids]\n",
    "\n",
    "# add the token in tokenizer\n",
    "num_added_tokens = tokenizer.add_tokens(trained_token)\n",
    "if num_added_tokens == 0:\n",
    "    raise ValueError(f\"The tokenizer already contains the token {trained_token}. \"\n",
    "                     \"Please pass a different `token` that is not already in the tokenizer.\")\n",
    "\n",
    "# resize the token embeddings\n",
    "text_encoder.resize_token_embeddings(len(tokenizer))\n",
    "\n",
    "# get the id for the token and assign the embeds\n",
    "token_id = tokenizer.convert_tokens_to_ids(trained_token)\n",
    "text_encoder.get_input_embeddings().weight.data[token_id] = embeds"
   ]
  },
  {
   "cell_type": "code",
   "execution_count": 3,
   "id": "f46dfef3-fb08-4a6b-89bb-7f32bf1c4488",
   "metadata": {},
   "outputs": [],
   "source": [
    "input_id_learned = tokenizer([trained_token], padding=False, truncation=True, \n",
    "                             max_length=tokenizer.model_max_length, return_tensors=\"pt\").input_ids\n",
    "input_id_initial = tokenizer([initialization_word], padding=False, truncation=True, \n",
    "                             max_length=tokenizer.model_max_length, return_tensors=\"pt\").input_ids"
   ]
  },
  {
   "cell_type": "code",
   "execution_count": 11,
   "id": "57155d7f-c600-4695-bcac-02ea5617af3d",
   "metadata": {},
   "outputs": [],
   "source": [
    "# project embeddings to text space\n",
    "hidden_states_learned = text_encoder(input_id_learned[:, 1].unsqueeze(0))[0][0][0]\n",
    "hidden_states_initial = text_encoder(input_id_initial[:, 1].unsqueeze(0))[0][0][0]"
   ]
  },
  {
   "cell_type": "code",
   "execution_count": 12,
   "id": "b62a0114-5db4-45ad-8050-7795477297e3",
   "metadata": {},
   "outputs": [
    {
     "name": "stdout",
     "output_type": "stream",
     "text": [
      "torch.Size([1024])\n"
     ]
    }
   ],
   "source": [
    "print(hidden_states_learned.shape)"
   ]
  },
  {
   "cell_type": "code",
   "execution_count": null,
   "id": "c982a0c8-d9b8-4e82-b0d7-552a15829ce7",
   "metadata": {},
   "outputs": [],
   "source": []
  }
 ],
 "metadata": {
  "kernelspec": {
   "display_name": "dushian",
   "language": "python",
   "name": "dushian"
  },
  "language_info": {
   "codemirror_mode": {
    "name": "ipython",
    "version": 3
   },
   "file_extension": ".py",
   "mimetype": "text/x-python",
   "name": "python",
   "nbconvert_exporter": "python",
   "pygments_lexer": "ipython3",
   "version": "3.8.16"
  }
 },
 "nbformat": 4,
 "nbformat_minor": 5
}
