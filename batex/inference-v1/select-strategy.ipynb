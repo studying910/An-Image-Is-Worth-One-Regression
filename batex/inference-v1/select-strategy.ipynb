{
 "cells": [
  {
   "cell_type": "code",
   "execution_count": null,
   "id": "e0b3dc90-32f1-4236-8dfb-be271ecd5319",
   "metadata": {},
   "outputs": [],
   "source": [
    "!nvidia-smi --query-gpu=name,memory.total,memory.free --format=csv,noheader"
   ]
  },
  {
   "cell_type": "code",
   "execution_count": 1,
   "id": "2aa69f4f-e4ae-4880-9669-7b2da9410667",
   "metadata": {},
   "outputs": [
    {
     "name": "stderr",
     "output_type": "stream",
     "text": [
      "/root/miniconda3/envs/dushian/lib/python3.8/site-packages/tqdm/auto.py:22: TqdmWarning: IProgress not found. Please update jupyter and ipywidgets. See https://ipywidgets.readthedocs.io/en/stable/user_install.html\n",
      "  from .autonotebook import tqdm as notebook_tqdm\n"
     ]
    }
   ],
   "source": [
    "import torch\n",
    "import os\n",
    "from diffusers import StableDiffusionPipeline\n",
    "from transformers import CLIPFeatureExtractor, CLIPTextModel, CLIPTokenizer\n",
    "\n",
    "pretrained_model_name_or_path = \"/root/autodl-tmp/stable_diffusion/stable-diffusion-v1-5\"\n",
    "dist_type = \"Vector_dot\"\n",
    "\n",
    "tokenizer = CLIPTokenizer.from_pretrained(\n",
    "    pretrained_model_name_or_path,\n",
    "    subfolder=\"tokenizer\",\n",
    ")\n",
    "text_encoder = CLIPTextModel.from_pretrained(\n",
    "    pretrained_model_name_or_path, \n",
    "    subfolder=\"text_encoder\",\n",
    ")"
   ]
  },
  {
   "cell_type": "code",
   "execution_count": 9,
   "id": "44583a66-d849-4ed2-8238-c9a4e6e495f5",
   "metadata": {},
   "outputs": [],
   "source": [
    "initialization_token = \"chair\" # change here when using other datasets\n",
    "vocab_num = len(tokenizer)\n",
    "vocab_embedding = text_encoder.get_input_embeddings().weight.data\n",
    "token_ids = tokenizer.encode(initialization_token, add_special_tokens=False)\n",
    "# Check if initializer_token is a single token or a sequence of tokens\n",
    "if len(token_ids) > 1:\n",
    "    raise ValueError(\"The initializer token must be a single token.\")\n",
    "initializer_token_id = token_ids[0]\n",
    "initialization_embedding = vocab_embedding[initializer_token_id]"
   ]
  },
  {
   "cell_type": "code",
   "execution_count": 10,
   "id": "54159f0f-41ff-4e3f-af09-a23b29d9ab54",
   "metadata": {},
   "outputs": [
    {
     "name": "stdout",
     "output_type": "stream",
     "text": [
      "The rank is 768/768\n"
     ]
    }
   ],
   "source": [
    "# change M to get satisfying rank\n",
    "M = 768\n",
    "\n",
    "if dist_type == \"Vector_dot\":\n",
    "    vocab_dist = torch.mm(vocab_embedding, initialization_embedding.unsqueeze(1)).squeeze(1)\n",
    "    _, vocab_max_ids = torch.topk(vocab_dist, M, 0, True)\n",
    "    candidate_embedding_matrix = vocab_embedding[vocab_max_ids]  # [args.mask_k, 768]\n",
    "elif dist_type == \"Cosine_similarity\":\n",
    "    embeds_matrix = initialization_embedding.unsqueeze(0).expand(vocab_num, \n",
    "                                                                 initialization_embedding.shape[0])\n",
    "    vocab_dist = torch.cosine_similarity(embeds_matrix, vocab_embedding, 0)\n",
    "    _, vocab_max_ids = torch.topk(vocab_dist, M, 0, True)\n",
    "    candidate_embedding_matrix = vocab_embedding[vocab_max_ids]  # [args.mask_k, 768]\n",
    "elif dist_type == \"L2\":\n",
    "    embeds_matrix = initialization_embedding.unsqueeze(0).expand(vocab_num, \n",
    "                                                                 initialization_embedding.shape[0])\n",
    "    residual_matrix = embeds_matrix - vocab_embedding\n",
    "    vocab_dist = torch.norm(residual_matrix, 2, 1)\n",
    "    _, vocab_min_ids = torch.topk(vocab_dist, M, 0, False)\n",
    "    candidate_embedding_matrix = vocab_embedding[vocab_min_ids]  # [args.mask_k, 768]\n",
    "\n",
    "# calculate the rank of the candidate_embedding_matrix\n",
    "candidate_rank = torch.linalg.matrix_rank(candidate_embedding_matrix)\n",
    "print(f\"The rank is {candidate_rank}/768\")"
   ]
  },
  {
   "cell_type": "code",
   "execution_count": null,
   "id": "98f095f8-bdda-452e-8655-e5b4acb7dbaf",
   "metadata": {},
   "outputs": [],
   "source": []
  }
 ],
 "metadata": {
  "kernelspec": {
   "display_name": "dushian",
   "language": "python",
   "name": "dushian"
  },
  "language_info": {
   "codemirror_mode": {
    "name": "ipython",
    "version": 3
   },
   "file_extension": ".py",
   "mimetype": "text/x-python",
   "name": "python",
   "nbconvert_exporter": "python",
   "pygments_lexer": "ipython3",
   "version": "3.8.16"
  }
 },
 "nbformat": 4,
 "nbformat_minor": 5
}
