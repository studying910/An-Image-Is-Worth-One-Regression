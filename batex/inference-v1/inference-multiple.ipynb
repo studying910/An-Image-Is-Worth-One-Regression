{
 "cells": [
  {
   "cell_type": "code",
   "execution_count": 1,
   "metadata": {},
   "outputs": [
    {
     "name": "stdout",
     "output_type": "stream",
     "text": [
      "NVIDIA A100-PCIE-40GB, 40960 MiB, 31264 MiB\n",
      "NVIDIA A100-PCIE-40GB, 40960 MiB, 40510 MiB\n",
      "NVIDIA A100-PCIE-40GB, 40960 MiB, 40510 MiB\n"
     ]
    }
   ],
   "source": [
    "!nvidia-smi --query-gpu=name,memory.total,memory.free --format=csv,noheader"
   ]
  },
  {
   "cell_type": "code",
   "execution_count": 17,
   "metadata": {},
   "outputs": [],
   "source": [
    "import torch\n",
    "import os\n",
    "from diffusers import StableDiffusionPipeline\n",
    "from transformers import CLIPFeatureExtractor, CLIPTextModel, CLIPTokenizer\n",
    "\n",
    "SEED = 512\n",
    "DEVICE = torch.device(\"cuda:2\") if torch.cuda.is_available() else torch.device(\"cpu\")\n",
    "\n",
    "pretrained_model_name_or_path = \"/root/autodl-tmp/stable_diffusion/stable-diffusion-v1-5\"\n",
    "learned_embeds_path = \"/root/autodl-tmp/textual_inversion/merged_embeddings/custom_chair&custom_cat/learned_embeds_factor=0.12&learned_embeds_factor=0.5.bin\"\n",
    "all_embedding_path = os.path.dirname(learned_embeds_path)\n",
    "_, all_dataset_name = os.path.split(all_embedding_path)\n",
    "dataset_name_list = all_dataset_name.split(\"&\")\n",
    "full_embedding_path, _ = os.path.splitext(learned_embeds_path)\n",
    "_, embedding_name = os.path.split(full_embedding_path)\n",
    "\n",
    "tokenizer = CLIPTokenizer.from_pretrained(\n",
    "    pretrained_model_name_or_path,\n",
    "    subfolder=\"tokenizer\",\n",
    ")\n",
    "text_encoder = CLIPTextModel.from_pretrained(\n",
    "    pretrained_model_name_or_path, subfolder=\"text_encoder\", torch_dtype=torch.float16\n",
    ")"
   ]
  },
  {
   "cell_type": "code",
   "execution_count": 18,
   "metadata": {},
   "outputs": [
    {
     "name": "stdout",
     "output_type": "stream",
     "text": [
      "placeholder token for dataset custom_chair: <custom_chair>\n",
      "placeholder token for dataset custom_cat: <custom_cat>\n"
     ]
    }
   ],
   "source": [
    "loaded_learned_embeds = torch.load(learned_embeds_path, map_location=\"cpu\")\n",
    "trained_token_list = list(loaded_learned_embeds.keys())\n",
    "dtype = text_encoder.get_input_embeddings().weight.dtype\n",
    "for i, trained_token in enumerate(trained_token_list):\n",
    "    # separate token and the embeds\n",
    "    embeds = loaded_learned_embeds[trained_token]\n",
    "    # cast to dtype of text_encoder\n",
    "    embeds.to(dtype)\n",
    "    # add the token in tokenizer\n",
    "    num_added_tokens = tokenizer.add_tokens(trained_token)\n",
    "    # resize the token embeddings\n",
    "    text_encoder.resize_token_embeddings(len(tokenizer))\n",
    "    # get the id for the token and assign the embeds\n",
    "    token_id = tokenizer.convert_tokens_to_ids(trained_token)\n",
    "    text_encoder.get_input_embeddings().weight.data[token_id] = embeds\n",
    "    if num_added_tokens == 0:\n",
    "        raise ValueError(f\"The tokenizer already contains the token {trained_token}. \"\n",
    "                         \"Please pass a different `token` that is not already in the tokenizer.\")\n",
    "    print(f\"placeholder token for dataset {dataset_name_list[i]}: {trained_token}\")\n",
    "\n",
    "pipe = StableDiffusionPipeline.from_pretrained(pretrained_model_name_or_path,\n",
    "                                               torch_dtype=torch.float16, \n",
    "                                               text_encoder=text_encoder, \n",
    "                                               tokenizer=tokenizer).to(DEVICE)"
   ]
  },
  {
   "cell_type": "code",
   "execution_count": 19,
   "metadata": {},
   "outputs": [
    {
     "name": "stderr",
     "output_type": "stream",
     "text": [
      "100%|██████████| 50/50 [00:04<00:00, 12.08it/s]\n"
     ]
    }
   ],
   "source": [
    "prompt = \"a <custom_cat> sitting on a <custom_chair>\"\n",
    "generator = None if SEED is None else torch.Generator(\n",
    "            device=DEVICE).manual_seed(SEED)\n",
    "\n",
    "image = pipe(prompt, num_inference_steps=50, guidance_scale=7.5, generator=generator).images[0]\n",
    "\n",
    "image_dir = os.path.join(all_embedding_path, \"images\")\n",
    "os.makedirs(image_dir, exist_ok=True)\n",
    "image_path = os.path.join(image_dir, \"{}_{}_{}.png\".format(prompt, embedding_name, SEED))\n",
    "image.save(image_path)"
   ]
  },
  {
   "cell_type": "code",
   "execution_count": null,
   "metadata": {},
   "outputs": [],
   "source": []
  }
 ],
 "metadata": {
  "kernelspec": {
   "display_name": "dushian",
   "language": "python",
   "name": "dushian"
  },
  "language_info": {
   "codemirror_mode": {
    "name": "ipython",
    "version": 3
   },
   "file_extension": ".py",
   "mimetype": "text/x-python",
   "name": "python",
   "nbconvert_exporter": "python",
   "pygments_lexer": "ipython3",
   "version": "3.8.16"
  }
 },
 "nbformat": 4,
 "nbformat_minor": 4
}
