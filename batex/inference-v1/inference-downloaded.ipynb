{
 "cells": [
  {
   "cell_type": "code",
   "execution_count": 1,
   "metadata": {},
   "outputs": [
    {
     "name": "stdout",
     "output_type": "stream",
     "text": [
      "NVIDIA A100-PCIE-40GB, 40960 MiB, 40396 MiB\n"
     ]
    }
   ],
   "source": [
    "!nvidia-smi --query-gpu=name,memory.total,memory.free --format=csv,noheader"
   ]
  },
  {
   "cell_type": "code",
   "execution_count": 2,
   "metadata": {},
   "outputs": [
    {
     "name": "stderr",
     "output_type": "stream",
     "text": [
      "/root/miniconda3/envs/dushian/lib/python3.8/site-packages/tqdm/auto.py:22: TqdmWarning: IProgress not found. Please update jupyter and ipywidgets. See https://ipywidgets.readthedocs.io/en/stable/user_install.html\n",
      "  from .autonotebook import tqdm as notebook_tqdm\n",
      "Fetching 9 files:   0%|          | 0/9 [00:00<?, ?it/s]\n",
      "Downloading (…)bcce2/.gitattributes: 100%|██████████| 1.38k/1.38k [00:00<00:00, 159kB/s]\n",
      "Fetching 9 files:  11%|█         | 1/9 [00:01<00:15,  1.93s/it]\n",
      "Downloading (…)oncept_images/2.jpeg:   0%|          | 0.00/168k [00:00<?, ?B/s]\u001b[A\n",
      "Downloading (…)oncept_images/2.jpeg: 100%|██████████| 168k/168k [00:00<00:00, 241kB/s]\u001b[A\n",
      "\n",
      "Downloading (…)oncept_images/1.jpeg:   0%|          | 0.00/171k [00:00<?, ?B/s]\u001b[A\n",
      "Downloading (…)oncept_images/1.jpeg: 100%|██████████| 171k/171k [00:00<00:00, 244kB/s]\u001b[A\n",
      "\n",
      "Downloading (…)/type_of_concept.txt: 100%|██████████| 5.00/5.00 [00:00<00:00, 681B/s]\n",
      "\n",
      "Downloading learned_embeds.bin: 100%|██████████| 3.82k/3.82k [00:00<00:00, 504kB/s]\n",
      "\n",
      "Downloading (…)oncept_images/0.jpeg:   0%|          | 0.00/96.7k [00:00<?, ?B/s]\u001b[A\n",
      "\n",
      "Downloading (…)d0374bcce2/README.md: 100%|██████████| 1.11k/1.11k [00:00<00:00, 114kB/s]\n",
      "\n",
      "\n",
      "Downloading (…)token_identifier.txt: 100%|██████████| 18.0/18.0 [00:00<00:00, 2.71kB/s]\n",
      "Fetching 9 files:  22%|██▏       | 2/9 [00:22<01:28, 12.60s/it]\n",
      "Downloading (…)oncept_images/0.jpeg: 100%|██████████| 96.7k/96.7k [00:00<00:00, 209kB/s]\u001b[A\n",
      "Fetching 9 files:  33%|███▎      | 3/9 [00:22<00:42,  7.04s/it]\n",
      "Downloading (…)oncept_images/3.jpeg:   0%|          | 0.00/197k [00:00<?, ?B/s]\u001b[A\n",
      "Downloading (…)oncept_images/3.jpeg: 100%|██████████| 197k/197k [00:00<00:00, 213kB/s]\u001b[A\n",
      "Fetching 9 files: 100%|██████████| 9/9 [00:32<00:00,  3.65s/it]\n"
     ]
    }
   ],
   "source": [
    "import torch\n",
    "import os\n",
    "from diffusers import StableDiffusionPipeline\n",
    "from transformers import CLIPFeatureExtractor, CLIPTextModel, CLIPTokenizer\n",
    "from huggingface_hub import hf_hub_download, snapshot_download\n",
    "from shutil import rmtree\n",
    "\n",
    "SEED = None\n",
    "DEVICE = torch.device(\"cuda:0\") if torch.cuda.is_available() else torch.device(\"cpu\")\n",
    "\n",
    "pretrained_model_name_or_path = \"runwayml/stable-diffusion-v1-5\"\n",
    "dataset_name = \"midjourney-style\"\n",
    "downloaded_embedding_folder = f\"/root/autodl-tmp/textual_inversion/downloaded_embeddings/{dataset_name}/original\" \n",
    "downloaded_state_path = f\"{downloaded_embedding_folder}/downloaded_state.txt\"\n",
    "if not os.path.exists(downloaded_embedding_folder):\n",
    "    os.makedirs(downloaded_embedding_folder, exist_ok=True)\n",
    "    with open(downloaded_state_path, \"w\") as f:\n",
    "        f.write(\"False\")\n",
    "    repo_id_embeds = f\"sd-concepts-library/{dataset_name}\"\n",
    "    _ = snapshot_download(repo_id=repo_id_embeds, local_dir=downloaded_embedding_folder)\n",
    "    with open(downloaded_state_path, \"w\") as f:\n",
    "        f.write(\"True\")\n",
    "else:\n",
    "    with open(downloaded_state_path, \"r\") as f:\n",
    "        downloaded_state = f.read()\n",
    "    if downloaded_state == \"True\":\n",
    "        print(\"File already downloaded in the correct path\")\n",
    "    elif downloaded_state == \"False\":\n",
    "        rmtree(downloaded_embedding_folder)\n",
    "        os.makedirs(downloaded_embedding_folder, exist_ok=True)\n",
    "        with open(downloaded_state_path, \"w\") as f:\n",
    "            f.write(\"False\")\n",
    "        repo_id_embeds = f\"sd-concepts-library/{dataset_name}\"\n",
    "        _ = snapshot_download(repo_id=repo_id_embeds, local_dir=downloaded_embedding_folder)\n",
    "        with open(downloaded_state_path, \"w\") as f:\n",
    "            f.write(\"True\")\n",
    "    else:\n",
    "        raise ValueError(\"downloaded_state in downloaded_state.txt should be only True or False\")\n",
    "\n",
    "'''\n",
    "embeds_path = hf_hub_download(repo_id=repo_id_embeds, filename=\"learned_embeds.bin\", \n",
    "                              local_dir=downloaded_embedding_folder)\n",
    "'''\n",
    "learned_embeds_path = f\"{downloaded_embedding_folder}/learned_embeds.bin\""
   ]
  },
  {
   "cell_type": "code",
   "execution_count": 3,
   "metadata": {},
   "outputs": [],
   "source": [
    "tokenizer = CLIPTokenizer.from_pretrained(\n",
    "    pretrained_model_name_or_path,\n",
    "    subfolder=\"tokenizer\",\n",
    ")\n",
    "text_encoder = CLIPTextModel.from_pretrained(\n",
    "    pretrained_model_name_or_path, subfolder=\"text_encoder\", torch_dtype=torch.float16\n",
    ")"
   ]
  },
  {
   "cell_type": "code",
   "execution_count": 4,
   "metadata": {},
   "outputs": [
    {
     "name": "stdout",
     "output_type": "stream",
     "text": [
      "placeholder token for dataset midjourney-style: <midjourney-style>\n"
     ]
    },
    {
     "name": "stderr",
     "output_type": "stream",
     "text": [
      "/root/miniconda3/envs/dushian/lib/python3.8/site-packages/transformers/models/clip/feature_extraction_clip.py:28: FutureWarning: The class CLIPFeatureExtractor is deprecated and will be removed in version 5 of Transformers. Please use CLIPImageProcessor instead.\n",
      "  warnings.warn(\n"
     ]
    }
   ],
   "source": [
    "loaded_learned_embeds = torch.load(learned_embeds_path, map_location=\"cpu\")\n",
    "  \n",
    "# separate token and the embeds\n",
    "trained_token = list(loaded_learned_embeds.keys())[0]\n",
    "embeds = loaded_learned_embeds[trained_token]\n",
    "print(\"placeholder token for dataset {}:\".format(dataset_name), trained_token)\n",
    "\n",
    "# cast to dtype of text_encoder\n",
    "dtype = text_encoder.get_input_embeddings().weight.dtype\n",
    "embeds.to(dtype)\n",
    "\n",
    "# add the token in tokenizer\n",
    "num_added_tokens = tokenizer.add_tokens(trained_token)\n",
    "if num_added_tokens == 0:\n",
    "    raise ValueError(f\"The tokenizer already contains the token {trained_token}. \"\n",
    "                     \"Please pass a different `token` that is not already in the tokenizer.\")\n",
    "\n",
    "# resize the token embeddings\n",
    "text_encoder.resize_token_embeddings(len(tokenizer))\n",
    "\n",
    "# get the id for the token and assign the embeds\n",
    "token_id = tokenizer.convert_tokens_to_ids(trained_token)\n",
    "text_encoder.get_input_embeddings().weight.data[token_id] = embeds\n",
    "\n",
    "pipe = StableDiffusionPipeline.from_pretrained(pretrained_model_name_or_path,\n",
    "                                               torch_dtype=torch.float16, \n",
    "                                               text_encoder=text_encoder, \n",
    "                                               tokenizer=tokenizer).to(DEVICE)"
   ]
  },
  {
   "cell_type": "code",
   "execution_count": 6,
   "metadata": {},
   "outputs": [
    {
     "name": "stderr",
     "output_type": "stream",
     "text": [
      "100%|██████████| 50/50 [00:04<00:00, 12.06it/s]\n"
     ]
    }
   ],
   "source": [
    "prompt = \"a library in the style of {}\".format(trained_token)\n",
    "generator = None if SEED is None else torch.Generator(\n",
    "            device=DEVICE).manual_seed(SEED)\n",
    "\n",
    "image = pipe(prompt, num_inference_steps=50, guidance_scale=7.5, generator=generator).images[0]\n",
    "\n",
    "image_dir = os.path.join(downloaded_embedding_folder, \"images\")\n",
    "os.makedirs(image_dir, exist_ok=True)\n",
    "image_path = os.path.join(image_dir, \"{}.png\".format(prompt))\n",
    "image.save(image_path)"
   ]
  },
  {
   "cell_type": "code",
   "execution_count": null,
   "metadata": {},
   "outputs": [],
   "source": []
  }
 ],
 "metadata": {
  "kernelspec": {
   "display_name": "dushian",
   "language": "python",
   "name": "dushian"
  },
  "language_info": {
   "codemirror_mode": {
    "name": "ipython",
    "version": 3
   },
   "file_extension": ".py",
   "mimetype": "text/x-python",
   "name": "python",
   "nbconvert_exporter": "python",
   "pygments_lexer": "ipython3",
   "version": "3.8.16"
  }
 },
 "nbformat": 4,
 "nbformat_minor": 4
}
