{
 "cells": [
  {
   "cell_type": "code",
   "execution_count": 9,
   "id": "acd69ba1-e39e-4163-a9eb-1fe5e5d44287",
   "metadata": {},
   "outputs": [],
   "source": [
    "import torch\n",
    "import os\n",
    "from diffusers import StableDiffusionPipeline, EulerDiscreteScheduler\n",
    "from transformers import CLIPFeatureExtractor, CLIPTextModel, CLIPTokenizer\n",
    "\n",
    "pretrained_model_name_or_path = \"/root/autodl-tmp/stable_diffusion/stable-diffusion-v1-5\"\n",
    "first_token = \"animal\"\n",
    "second_token = \"cat\"\n",
    "mask_k = 576\n",
    "\n",
    "tokenizer = CLIPTokenizer.from_pretrained(\n",
    "    pretrained_model_name_or_path,\n",
    "    subfolder=\"tokenizer\",\n",
    ")\n",
    "text_encoder = CLIPTextModel.from_pretrained(\n",
    "    pretrained_model_name_or_path, subfolder=\"text_encoder\"\n",
    ")"
   ]
  },
  {
   "cell_type": "code",
   "execution_count": 10,
   "id": "552899b6-23ec-42ab-8327-00a52c49f5f9",
   "metadata": {},
   "outputs": [
    {
     "name": "stdout",
     "output_type": "stream",
     "text": [
      "The 576 candidates for animal already contain cat\n"
     ]
    }
   ],
   "source": [
    "token_ids = tokenizer.encode(first_token, add_special_tokens=False)\n",
    "if len(token_ids) > 1:\n",
    "    raise ValueError(\"The initializer token must be a single token.\")\n",
    "\n",
    "initializer_token_id = token_ids[0]\n",
    "token_ids_second = tokenizer.encode(second_token, add_special_tokens=False)\n",
    "if len(token_ids_second) > 1:\n",
    "    raise ValueError(\"The second token must be a single token.\")\n",
    "second_token_id = token_ids_second[0]\n",
    "\n",
    "token_embeds = text_encoder.get_input_embeddings().weight.data\n",
    "initialization_embedding = token_embeds[initializer_token_id]\n",
    "second_embedding = token_embeds[second_token_id]\n",
    "\n",
    "vocab_dist_first = torch.mm(token_embeds, initialization_embedding.unsqueeze(1)).squeeze(1)\n",
    "_, vocab_ids_first = torch.topk(vocab_dist_first, mask_k, 0, True)\n",
    "if second_token_id in vocab_ids_first:\n",
    "    print(f\"The {mask_k} candidates for {first_token} already contain {second_token}\")\n",
    "else:\n",
    "    print(f\"The {mask_k} candidates for {first_token} do not contain {second_token}\")"
   ]
  },
  {
   "cell_type": "code",
   "execution_count": null,
   "id": "e9333bce-6cc5-42fc-8f25-655ca9a7da22",
   "metadata": {},
   "outputs": [],
   "source": []
  }
 ],
 "metadata": {
  "kernelspec": {
   "display_name": "dushian",
   "language": "python",
   "name": "dushian"
  },
  "language_info": {
   "codemirror_mode": {
    "name": "ipython",
    "version": 3
   },
   "file_extension": ".py",
   "mimetype": "text/x-python",
   "name": "python",
   "nbconvert_exporter": "python",
   "pygments_lexer": "ipython3",
   "version": "3.8.16"
  }
 },
 "nbformat": 4,
 "nbformat_minor": 5
}
