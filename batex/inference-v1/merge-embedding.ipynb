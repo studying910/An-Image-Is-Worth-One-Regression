{
 "cells": [
  {
   "cell_type": "code",
   "execution_count": 3,
   "metadata": {},
   "outputs": [],
   "source": [
    "import torch\n",
    "import os\n",
    "from transformers import CLIPFeatureExtractor, CLIPTextModel, CLIPTokenizer\n",
    "\n",
    "# Define common settings\n",
    "pretrained_model_name_or_path = \"/root/autodl-tmp/stable_diffusion/stable-diffusion-v1-5\"\n",
    "learned_embedding_path_list = [\"/root/autodl-tmp/textual_inversion/trained_embeddings/custom_chair/original/learned_embeds_factor=0.0.bin\", \n",
    "                               \"/root/autodl-tmp/textual_inversion/trained_embeddings/custom_cat/original/learned_embeds_factor=0.0.bin\"]\n",
    "merge_path = \"/root/autodl-tmp/textual_inversion/merged_embeddings\"\n",
    "specific_path = None # directory name\n",
    "embedding_name_path = None # embedding name\n",
    "\n",
    "tokenizer = CLIPTokenizer.from_pretrained(\n",
    "    pretrained_model_name_or_path,\n",
    "    subfolder=\"tokenizer\",\n",
    ")\n",
    "text_encoder = CLIPTextModel.from_pretrained(\n",
    "    pretrained_model_name_or_path, subfolder=\"text_encoder\", torch_dtype=torch.float16\n",
    ")"
   ]
  },
  {
   "cell_type": "code",
   "execution_count": 4,
   "metadata": {},
   "outputs": [],
   "source": [
    "# Merge multiple embeddings\n",
    "learned_embeddings_dict = {}\n",
    "for learned_embedding_path in learned_embedding_path_list:\n",
    "    all_embedding_path = os.path.dirname(learned_embedding_path)\n",
    "    dataset_path, _ = os.path.split(all_embedding_path)\n",
    "    _, dataset_name = os.path.split(dataset_path)\n",
    "    if specific_path is None:\n",
    "        specific_path = dataset_name\n",
    "    else:\n",
    "        specific_path = specific_path + \"&\" + dataset_name\n",
    "        \n",
    "    full_embedding_path, _ = os.path.splitext(learned_embedding_path)\n",
    "    _, embedding_name = os.path.split(full_embedding_path)\n",
    "    if embedding_name_path is None:\n",
    "        embedding_name_path = embedding_name\n",
    "    else:\n",
    "        embedding_name_path = embedding_name_path + \"&\" + embedding_name\n",
    "    \n",
    "    loaded_learned_embedding = torch.load(learned_embedding_path, map_location=\"cpu\")\n",
    "    \n",
    "    # separate token and the embeds\n",
    "    trained_token = list(loaded_learned_embedding.keys())[0]\n",
    "    embedding = loaded_learned_embedding[trained_token]\n",
    "    \n",
    "    if trained_token in learned_embeddings_dict.keys():\n",
    "        raise ValueError(f\"{trained_token} is repetitive, please use another placeholder token\")\n",
    "    learned_embeddings_dict[trained_token] = embedding\n",
    "    \n",
    "output_path = f\"{merge_path}/{specific_path}\"\n",
    "os.makedirs(output_path, exist_ok=True)\n",
    "output_embeddings_path = os.path.join(output_path, \"{}.bin\".format(embedding_name_path))\n",
    "torch.save(learned_embeddings_dict, output_embeddings_path)"
   ]
  },
  {
   "cell_type": "code",
   "execution_count": null,
   "metadata": {},
   "outputs": [],
   "source": []
  }
 ],
 "metadata": {
  "kernelspec": {
   "display_name": "dushian",
   "language": "python",
   "name": "dushian"
  },
  "language_info": {
   "codemirror_mode": {
    "name": "ipython",
    "version": 3
   },
   "file_extension": ".py",
   "mimetype": "text/x-python",
   "name": "python",
   "nbconvert_exporter": "python",
   "pygments_lexer": "ipython3",
   "version": "3.8.16"
  }
 },
 "nbformat": 4,
 "nbformat_minor": 4
}
