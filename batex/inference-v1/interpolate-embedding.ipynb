{
 "cells": [
  {
   "cell_type": "code",
   "execution_count": 1,
   "id": "6c4c0019-d87f-48bc-95c2-cdec826fa3d4",
   "metadata": {},
   "outputs": [
    {
     "name": "stdout",
     "output_type": "stream",
     "text": [
      "NVIDIA A100-PCIE-40GB, 40960 MiB, 17206 MiB\n",
      "NVIDIA A100-PCIE-40GB, 40960 MiB, 17206 MiB\n",
      "NVIDIA A100-PCIE-40GB, 40960 MiB, 17206 MiB\n"
     ]
    }
   ],
   "source": [
    "!nvidia-smi --query-gpu=name,memory.total,memory.free --format=csv,noheader"
   ]
  },
  {
   "cell_type": "code",
   "execution_count": 7,
   "id": "36f28d2a-e936-407c-b688-eb2e98f62af3",
   "metadata": {},
   "outputs": [],
   "source": [
    "import torch\n",
    "import os\n",
    "from diffusers import StableDiffusionPipeline\n",
    "from transformers import CLIPFeatureExtractor, CLIPTextModel, CLIPTokenizer\n",
    "\n",
    "SEED = None\n",
    "DEVICE = torch.device(\"cuda:0\") if torch.cuda.is_available() else torch.device(\"cpu\")\n",
    "\n",
    "pretrained_model_name_or_path = \"/root/autodl-tmp/stable_diffusion/stable-diffusion-v1-5\"\n",
    "learned_embeds_path = \"/root/autodl-tmp/textual_inversion/trained_embeddings/custom_chair/original/learned_embeds.bin\"\n",
    "all_embedding_path = os.path.dirname(learned_embeds_path)\n",
    "dataset_path, _ = os.path.split(all_embedding_path)\n",
    "_, dataset_name = os.path.split(dataset_path)\n",
    "initialization_word_path = f\"{all_embedding_path}/initialization_word.txt\"\n",
    "\n",
    "tokenizer = CLIPTokenizer.from_pretrained(\n",
    "    pretrained_model_name_or_path,\n",
    "    subfolder=\"tokenizer\",\n",
    ")\n",
    "text_encoder = CLIPTextModel.from_pretrained(\n",
    "    pretrained_model_name_or_path, subfolder=\"text_encoder\", torch_dtype=torch.float16\n",
    ")"
   ]
  },
  {
   "cell_type": "code",
   "execution_count": 8,
   "id": "dd928e16-e7d3-49aa-a427-990b83c90db8",
   "metadata": {},
   "outputs": [
    {
     "name": "stdout",
     "output_type": "stream",
     "text": [
      "placeholder token for dataset custom_chair: <custom_chair>\n",
      "Initialization token for dataset custom_chair: chair\n"
     ]
    }
   ],
   "source": [
    "loaded_learned_embeds = torch.load(learned_embeds_path, map_location=\"cpu\")\n",
    "  \n",
    "# separate token and the embeds\n",
    "trained_token = list(loaded_learned_embeds.keys())[0]\n",
    "embeds = loaded_learned_embeds[trained_token]\n",
    "print(\"placeholder token for dataset {}:\".format(dataset_name), trained_token)\n",
    "\n",
    "# cast to dtype of text_encoder\n",
    "dtype = text_encoder.get_input_embeddings().weight.dtype\n",
    "embeds.to(dtype)\n",
    "\n",
    "# get the initial embedding\n",
    "with open(initialization_word_path, \"r\") as f:\n",
    "    initialization_word  = f.read()\n",
    "print(\"Initialization token for dataset {}:\".format(dataset_name), initialization_word)\n",
    "initialization_word_ids = tokenizer.convert_tokens_to_ids(initialization_word)\n",
    "initialization_embedding = text_encoder.get_input_embeddings().weight.data[initialization_word_ids]"
   ]
  },
  {
   "cell_type": "code",
   "execution_count": 9,
   "id": "f70cb848-ae7d-487f-beb8-046dd85e89cd",
   "metadata": {},
   "outputs": [],
   "source": [
    "# perform linear interpolation\n",
    "interpolation_factor_list = [x / 100 for x in range(101)]\n",
    "for interpolation_factor in interpolation_factor_list:\n",
    "    interpolation_embedding = interpolation_factor * embeds + (1 - interpolation_factor) * initialization_embedding\n",
    "    learned_embeddings_dict = {trained_token: interpolation_embedding.detach().cpu()}\n",
    "    output_embeddings_path = f\"{all_embedding_path}/learned_embeds_factor={interpolation_factor}.bin\"\n",
    "    torch.save(learned_embeddings_dict, output_embeddings_path)"
   ]
  },
  {
   "cell_type": "code",
   "execution_count": 4,
   "id": "e69a7f32-92b6-4622-979c-c43f4ee66a98",
   "metadata": {},
   "outputs": [],
   "source": []
  }
 ],
 "metadata": {
  "kernelspec": {
   "display_name": "dushian",
   "language": "python",
   "name": "dushian"
  },
  "language_info": {
   "codemirror_mode": {
    "name": "ipython",
    "version": 3
   },
   "file_extension": ".py",
   "mimetype": "text/x-python",
   "name": "python",
   "nbconvert_exporter": "python",
   "pygments_lexer": "ipython3",
   "version": "3.8.16"
  }
 },
 "nbformat": 4,
 "nbformat_minor": 5
}
