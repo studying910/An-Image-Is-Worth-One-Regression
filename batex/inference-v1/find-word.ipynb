{
 "cells": [
  {
   "cell_type": "code",
   "execution_count": 1,
   "id": "4f44c520-f235-4d35-b9b7-b425f546facf",
   "metadata": {},
   "outputs": [
    {
     "name": "stdout",
     "output_type": "stream",
     "text": [
      "NVIDIA A100-PCIE-40GB, 40960 MiB, 19744 MiB\n",
      "NVIDIA A100-PCIE-40GB, 40960 MiB, 28478 MiB\n",
      "NVIDIA A100-PCIE-40GB, 40960 MiB, 19124 MiB\n"
     ]
    }
   ],
   "source": [
    "!nvidia-smi --query-gpu=name,memory.total,memory.free --format=csv,noheader"
   ]
  },
  {
   "cell_type": "code",
   "execution_count": 1,
   "id": "95258f62-593c-4283-bfd2-462860162706",
   "metadata": {},
   "outputs": [
    {
     "name": "stderr",
     "output_type": "stream",
     "text": [
      "/root/miniconda3/envs/dushian/lib/python3.8/site-packages/tqdm/auto.py:22: TqdmWarning: IProgress not found. Please update jupyter and ipywidgets. See https://ipywidgets.readthedocs.io/en/stable/user_install.html\n",
      "  from .autonotebook import tqdm as notebook_tqdm\n"
     ]
    }
   ],
   "source": [
    "import torch\n",
    "import os\n",
    "from diffusers import StableDiffusionPipeline\n",
    "from transformers import CLIPFeatureExtractor, CLIPTextModel, CLIPTokenizer\n",
    "\n",
    "SEED = None\n",
    "DEVICE = torch.device(\"cuda:1\") if torch.cuda.is_available() else torch.device(\"cpu\")\n",
    "\n",
    "pretrained_model_name_or_path = \"/root/autodl-tmp/stable_diffusion/stable-diffusion-v1-5\"\n",
    "learned_embeds_path = \"/root/autodl-tmp/textual_inversion/trained_embeddings/custom_cat/original/learned_embeds.bin\"\n",
    "all_embedding_path = os.path.dirname(learned_embeds_path)\n",
    "dataset_path, _ = os.path.split(all_embedding_path)\n",
    "_, dataset_name = os.path.split(dataset_path)\n",
    "\n",
    "tokenizer = CLIPTokenizer.from_pretrained(\n",
    "    pretrained_model_name_or_path,\n",
    "    subfolder=\"tokenizer\",\n",
    ")\n",
    "text_encoder = CLIPTextModel.from_pretrained(\n",
    "    pretrained_model_name_or_path, \n",
    "    subfolder=\"text_encoder\",\n",
    ")"
   ]
  },
  {
   "cell_type": "code",
   "execution_count": 2,
   "id": "8695cb6d-c110-41b2-844f-843a45ced42d",
   "metadata": {},
   "outputs": [
    {
     "name": "stdout",
     "output_type": "stream",
     "text": [
      "placeholder token for dataset custom_cat: <custom_cat>\n"
     ]
    }
   ],
   "source": [
    "loaded_learned_embeds = torch.load(learned_embeds_path, map_location=\"cpu\")\n",
    "  \n",
    "# separate token and the embeds\n",
    "trained_token = list(loaded_learned_embeds.keys())[0]\n",
    "embeds = loaded_learned_embeds[trained_token]\n",
    "print(\"placeholder token for dataset {}:\".format(dataset_name), trained_token)\n",
    "\n",
    "# cast to dtype of text_encoder\n",
    "dtype = text_encoder.get_input_embeddings().weight.dtype\n",
    "embeds.to(dtype)\n",
    "\n",
    "vocab_num = len(tokenizer)\n",
    "vocab_embedding = text_encoder.get_input_embeddings().weight.data"
   ]
  },
  {
   "cell_type": "code",
   "execution_count": 19,
   "id": "d3d5c364-c949-4b43-889c-df3c3efec40f",
   "metadata": {},
   "outputs": [],
   "source": [
    "special_token = \"pineapple\"\n",
    "special_id = tokenizer.convert_tokens_to_ids(special_token)\n",
    "special_embedding = text_encoder.get_input_embeddings().weight.data[special_id]"
   ]
  },
  {
   "cell_type": "code",
   "execution_count": 20,
   "id": "a94ff379-bcae-471b-a04d-ab589e15cfa7",
   "metadata": {},
   "outputs": [],
   "source": [
    "# calculate vector product\n",
    "vocab_dist = torch.mm(vocab_embedding, special_embedding.unsqueeze(1)).squeeze(1)"
   ]
  },
  {
   "cell_type": "code",
   "execution_count": 21,
   "id": "3bbfa00b-740f-4a0f-99ac-b207ffe436b7",
   "metadata": {},
   "outputs": [
    {
     "name": "stdout",
     "output_type": "stream",
     "text": [
      "['rockstars</w>', 'plasticpollution</w>', 'piccadilly</w>', 'whitfield</w>', 'northernlights</w>']\n"
     ]
    }
   ],
   "source": [
    "vocab_min, vocab_min_ids = torch.topk(vocab_dist, 5, 0, False)\n",
    "pseudo_word = tokenizer.convert_ids_to_tokens(vocab_min_ids)\n",
    "print(pseudo_word)"
   ]
  },
  {
   "cell_type": "code",
   "execution_count": 15,
   "id": "866e00c7-a70e-42a5-af48-2a22a7619874",
   "metadata": {},
   "outputs": [
    {
     "name": "stdout",
     "output_type": "stream",
     "text": [
      "49407\n"
     ]
    }
   ],
   "source": [
    "print(tokenizer.convert_tokens_to_ids(\"banana\"))"
   ]
  },
  {
   "cell_type": "code",
   "execution_count": 4,
   "id": "2dc818c4-73e5-4ddb-8ce6-f3402e29a782",
   "metadata": {},
   "outputs": [],
   "source": [
    "# calculate Lp distance\n",
    "embeds_matrix = special_embedding.unsqueeze(0).expand(vocab_num, special_embedding.shape[0]) # embeds\n",
    "residual_matrix = embeds_matrix - vocab_embedding\n",
    "vocab_dist = torch.norm(residual_matrix, 2, 1)"
   ]
  },
  {
   "cell_type": "code",
   "execution_count": 10,
   "id": "4c79392a-e9d2-4af1-b0a8-4916aedcf8db",
   "metadata": {},
   "outputs": [],
   "source": [
    "# calculate cosine similarity\n",
    "embeds_matrix = embeds.unsqueeze(0).expand(vocab_num, embeds.shape[0])\n",
    "vocab_dist = torch.cosine_similarity(embeds_matrix, vocab_embedding, 0)"
   ]
  },
  {
   "cell_type": "code",
   "execution_count": null,
   "id": "b02f81a0-4d71-4f74-9362-30e15a143b0a",
   "metadata": {},
   "outputs": [],
   "source": []
  }
 ],
 "metadata": {
  "kernelspec": {
   "display_name": "dushian",
   "language": "python",
   "name": "dushian"
  },
  "language_info": {
   "codemirror_mode": {
    "name": "ipython",
    "version": 3
   },
   "file_extension": ".py",
   "mimetype": "text/x-python",
   "name": "python",
   "nbconvert_exporter": "python",
   "pygments_lexer": "ipython3",
   "version": "3.8.16"
  }
 },
 "nbformat": 4,
 "nbformat_minor": 5
}
