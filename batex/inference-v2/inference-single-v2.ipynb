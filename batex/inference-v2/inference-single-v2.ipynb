{
 "cells": [
  {
   "cell_type": "code",
   "execution_count": 1,
   "id": "8f72e5ea-e2d7-4833-8af4-99d161a887a7",
   "metadata": {},
   "outputs": [
    {
     "name": "stdout",
     "output_type": "stream",
     "text": [
      "NVIDIA A100-PCIE-40GB, 40960 MiB, 38895 MiB\n",
      "NVIDIA A100-PCIE-40GB, 40960 MiB, 38895 MiB\n",
      "NVIDIA A100-PCIE-40GB, 40960 MiB, 40355 MiB\n"
     ]
    }
   ],
   "source": [
    "!nvidia-smi --query-gpu=name,memory.total,memory.free --format=csv,noheader"
   ]
  },
  {
   "cell_type": "code",
   "execution_count": 1,
   "id": "5f1d34bc-4f8a-40b4-af9b-26ca571ebd15",
   "metadata": {},
   "outputs": [
    {
     "name": "stderr",
     "output_type": "stream",
     "text": [
      "/root/miniconda3/envs/dushian/lib/python3.8/site-packages/tqdm/auto.py:22: TqdmWarning: IProgress not found. Please update jupyter and ipywidgets. See https://ipywidgets.readthedocs.io/en/stable/user_install.html\n",
      "  from .autonotebook import tqdm as notebook_tqdm\n"
     ]
    }
   ],
   "source": [
    "import torch\n",
    "import os\n",
    "from diffusers import StableDiffusionPipeline, EulerDiscreteScheduler\n",
    "from transformers import CLIPFeatureExtractor, CLIPTextModel, CLIPTokenizer\n",
    "\n",
    "SEED = None\n",
    "DEVICE = torch.device(\"cuda:0\") if torch.cuda.is_available() else torch.device(\"cpu\")\n",
    "\n",
    "pretrained_model_name_or_path = \"/root/autodl-tmp/stable_diffusion/stable-diffusion-2\"\n",
    "learned_embeds_path = \"/root/autodl-tmp/textual_inversion/trained_embeddings/custom_cat_v2/original/learned_embeds.bin\"\n",
    "all_embedding_path = os.path.dirname(learned_embeds_path)\n",
    "dataset_path, _ = os.path.split(all_embedding_path)\n",
    "_, dataset_name = os.path.split(dataset_path)\n",
    "\n",
    "tokenizer = CLIPTokenizer.from_pretrained(\n",
    "    pretrained_model_name_or_path,\n",
    "    subfolder=\"tokenizer\",\n",
    ")\n",
    "text_encoder = CLIPTextModel.from_pretrained(\n",
    "    pretrained_model_name_or_path, subfolder=\"text_encoder\", torch_dtype=torch.float16\n",
    ")"
   ]
  },
  {
   "cell_type": "code",
   "execution_count": 2,
   "id": "7ae35606-52e8-4379-bd73-8ae474b8f0ac",
   "metadata": {},
   "outputs": [
    {
     "name": "stdout",
     "output_type": "stream",
     "text": [
      "placeholder token for dataset custom_cat_v2: <custom_cat>\n"
     ]
    },
    {
     "name": "stderr",
     "output_type": "stream",
     "text": [
      "/root/miniconda3/envs/dushian/lib/python3.8/site-packages/transformers/models/clip/feature_extraction_clip.py:28: FutureWarning: The class CLIPFeatureExtractor is deprecated and will be removed in version 5 of Transformers. Please use CLIPImageProcessor instead.\n",
      "  warnings.warn(\n"
     ]
    }
   ],
   "source": [
    "loaded_learned_embeds = torch.load(learned_embeds_path, map_location=\"cpu\")\n",
    "  \n",
    "# separate token and the embeds\n",
    "trained_token = list(loaded_learned_embeds.keys())[0]\n",
    "embeds = loaded_learned_embeds[trained_token]\n",
    "print(\"placeholder token for dataset {}:\".format(dataset_name), trained_token)\n",
    "\n",
    "# cast to dtype of text_encoder\n",
    "dtype = text_encoder.get_input_embeddings().weight.dtype\n",
    "embeds.to(dtype)\n",
    "\n",
    "# add the token in tokenizer\n",
    "num_added_tokens = tokenizer.add_tokens(trained_token)\n",
    "if num_added_tokens == 0:\n",
    "    raise ValueError(f\"The tokenizer already contains the token {trained_token}. \"\n",
    "                     \"Please pass a different `token` that is not already in the tokenizer.\")\n",
    "\n",
    "# resize the token embeddings\n",
    "text_encoder.resize_token_embeddings(len(tokenizer))\n",
    "\n",
    "# get the id for the token and assign the embeds\n",
    "token_id = tokenizer.convert_tokens_to_ids(trained_token)\n",
    "text_encoder.get_input_embeddings().weight.data[token_id] = embeds\n",
    "\n",
    "scheduler = EulerDiscreteScheduler.from_pretrained(pretrained_model_name_or_path, subfolder=\"scheduler\")\n",
    "pipe = StableDiffusionPipeline.from_pretrained(pretrained_model_name_or_path,\n",
    "                                               scheduler=scheduler,\n",
    "                                               torch_dtype=torch.float16, \n",
    "                                               text_encoder=text_encoder, \n",
    "                                               tokenizer=tokenizer).to(DEVICE)"
   ]
  },
  {
   "cell_type": "code",
   "execution_count": 26,
   "id": "6155b3e5-3f33-40f7-a04a-5b9a67aae5e7",
   "metadata": {},
   "outputs": [
    {
     "name": "stderr",
     "output_type": "stream",
     "text": [
      "100%|██████████| 50/50 [00:04<00:00, 10.96it/s]\n"
     ]
    }
   ],
   "source": [
    "prompt = \"{} wearing headphones\".format(trained_token)\n",
    "generator = None if SEED is None else torch.Generator(\n",
    "            device=DEVICE).manual_seed(SEED)\n",
    "\n",
    "image = pipe(prompt, num_inference_steps=50, guidance_scale=7.5, generator=generator).images[0]\n",
    "\n",
    "image_dir = os.path.join(all_embedding_path, \"images\")\n",
    "os.makedirs(image_dir, exist_ok=True)\n",
    "image_path = os.path.join(image_dir, \"{}.png\".format(prompt))\n",
    "image.save(image_path)"
   ]
  },
  {
   "cell_type": "code",
   "execution_count": null,
   "id": "befdb1b8-0647-468a-bfaf-3852bbd6be7c",
   "metadata": {},
   "outputs": [],
   "source": []
  }
 ],
 "metadata": {
  "kernelspec": {
   "display_name": "dushian",
   "language": "python",
   "name": "dushian"
  },
  "language_info": {
   "codemirror_mode": {
    "name": "ipython",
    "version": 3
   },
   "file_extension": ".py",
   "mimetype": "text/x-python",
   "name": "python",
   "nbconvert_exporter": "python",
   "pygments_lexer": "ipython3",
   "version": "3.8.16"
  }
 },
 "nbformat": 4,
 "nbformat_minor": 5
}
